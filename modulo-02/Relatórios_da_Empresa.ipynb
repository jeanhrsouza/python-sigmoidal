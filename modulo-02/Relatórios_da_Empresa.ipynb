{
  "nbformat": 4,
  "nbformat_minor": 0,
  "metadata": {
    "colab": {
      "name": "Relatórios da Empresa.ipynb",
      "provenance": []
    },
    "kernelspec": {
      "name": "python3",
      "display_name": "Python 3"
    }
  },
  "cells": [
    {
      "cell_type": "markdown",
      "metadata": {
        "id": "r8gm9TnuJrBx"
      },
      "source": [
        "<img alt = \"Jean logo\" width=\"5%\" src=\"https://raw.githubusercontent.com/jeanhrsouza/python-sigmoidal/master/imagens/logo-jean.png\">\n",
        "<img alt =\"Colaboratory logo\" width=\"15%\" src=\"https://raw.githubusercontent.com/jeanhrsouza/python-sigmoidal/master/imagens/logo-sigmoidal.png\">\n",
        "\n",
        "### **Python do Zero**\n",
        "---\n",
        "### Relatórios da Empresa\n",
        "\n",
        "Agora que temos as ferramentas e o conhecimento para usá-las, é hora de botar a mão na massa, e botar todo o poder de tudo que aprendemos para funcionar na prática.\n",
        "\n",
        "<center><img width=\"50%\" src=\"https://image.freepik.com/free-photo/workplace-results-professional-report-accounting-during_1418-61.jpg\"></center>\n",
        "\n",
        "Em nossa jornada rumo à automação de tarefas repetitivas em nossa rotina de trabalho, vamos aprender a extrair informações úteis de nosso documentos.\n",
        "\n",
        "Mais uma vez utilizando a biblioteca [PDF Plumber](https://github.com/jsvine/pdfplumber) vamos extrair e manipular informações de diversos relatórios em pdf ao mesmo tempo.\n",
        "\n",
        "Para isso, vamos precisar fazer o download dos arquivos de apoio que foram disponibilizados como material complementar dessa aula.\n",
        "\n",
        "Lembrando: Nativamente, o Google Colab não possui essa biblioteca instalada, então nós precisamos instalar a mesma no nosso ambiente.\n",
        "\n",
        "Para isso, vamos utilizar o gerenciador de pacotes `pip`, e com o comando `install` vamos instalar a biblioteca\n"
      ]
    },
    {
      "cell_type": "code",
      "metadata": {
        "id": "EGa3vbPwSuvP",
        "outputId": "861cfeca-a0bf-40a2-e40b-95cd95f9844d",
        "colab": {
          "base_uri": "https://localhost:8080/",
          "height": 85
        }
      },
      "source": [
        "# instalando o pdfplumber\n",
        "!pip install pdfplumber -q"
      ],
      "execution_count": 1,
      "outputs": [
        {
          "output_type": "stream",
          "text": [
            "\u001b[K     |████████████████████████████████| 5.6MB 6.4MB/s \n",
            "\u001b[K     |████████████████████████████████| 143kB 47.2MB/s \n",
            "\u001b[K     |████████████████████████████████| 13.7MB 307kB/s \n",
            "\u001b[?25h  Building wheel for pdfplumber (setup.py) ... \u001b[?25l\u001b[?25hdone\n"
          ],
          "name": "stdout"
        }
      ]
    },
    {
      "cell_type": "code",
      "metadata": {
        "id": "ZKNylwyjZqYa",
        "outputId": "5e8f5a2e-aa91-4854-b08c-31c0026393a4",
        "colab": {
          "base_uri": "https://localhost:8080/",
          "height": 34
        }
      },
      "source": [
        "# importando os pacotes necessários\n",
        "from google.colab import drive\n",
        "import pdfplumber\n",
        "import os\n",
        "\n",
        "#montando o drive\n",
        "drive.mount('/content/gdrive')"
      ],
      "execution_count": 2,
      "outputs": [
        {
          "output_type": "stream",
          "text": [
            "Mounted at /content/gdrive\n"
          ],
          "name": "stdout"
        }
      ]
    },
    {
      "cell_type": "markdown",
      "metadata": {
        "id": "xQ_Jj9Scaea_"
      },
      "source": [
        "Assim que montamos o nosso drive, estamos na raiz dele. Atente-se sempre para o caminho que leva ao arquivo que você deseja acessar.\n",
        "\n",
        "Você pode fazer o upload em qualquer lugar no seu drive. Sabendo o caminho, fica fácil acessar.\n",
        "\n",
        "Normalmente, aquela tela inicial do seu drive é `/content/gdrive/My Drive`.\n",
        "\n",
        "Aqui, eu criei uma pasta `relatórios`, onde todos os arquivos de relatórios estão. Para acessar essa pasta, o caminho é:\n",
        "\n",
        "<center>/content/gdrive/My Drive/Cursos/Sigmoidal/Modulo 02/dados/relatorios</center>\n",
        "\n",
        "Portanto, usando o método Change Directory através do comando `chdir` da biblioteca `os`, vamos navegar até a pasta onde se encontram os arquivos que desejamos usar."
      ]
    },
    {
      "cell_type": "code",
      "metadata": {
        "id": "0jRotEBKaLoi"
      },
      "source": [
        "# mudar para o diretório com pdfs da semana\n",
        "os.chdir('/content/gdrive/My Drive/Cursos/Sigmoidal/Modulo 02/dados/relatorios')"
      ],
      "execution_count": 3,
      "outputs": []
    },
    {
      "cell_type": "markdown",
      "metadata": {
        "id": "5V_JY7SzbXMJ"
      },
      "source": [
        "É sempre bom garantir logo que você chegou ao diretório que deseja, antes de dar continuidade ao projeto e se deparar com erros que você não saberá a origem. Ela pode estar aqui.\n",
        "\n",
        "Para isso, mais uma vez utilizamos a biblioteca `os`, com o comando `getcwd`."
      ]
    },
    {
      "cell_type": "code",
      "metadata": {
        "id": "Te0k7BrQbSVr",
        "outputId": "7d0a4935-3c41-40af-b485-b8032f8071b0",
        "colab": {
          "base_uri": "https://localhost:8080/",
          "height": 35
        }
      },
      "source": [
        "# checar se estou no diretório\n",
        "os.getcwd()"
      ],
      "execution_count": 4,
      "outputs": [
        {
          "output_type": "execute_result",
          "data": {
            "application/vnd.google.colaboratory.intrinsic+json": {
              "type": "string"
            },
            "text/plain": [
              "'/content/gdrive/My Drive/Cursos/Sigmoidal/Modulo 02/dados/relatorios'"
            ]
          },
          "metadata": {
            "tags": []
          },
          "execution_count": 4
        }
      ]
    },
    {
      "cell_type": "markdown",
      "metadata": {
        "id": "ylZ7-McqeczK"
      },
      "source": [
        "Estamos no repositório correto. Para conferir os arquivos que temos dentro desse diretório, podemos usar o método `listdir`, que nos retorna uma lista do conteúdo do repositórios em que estamos.\n",
        "\n",
        "Vamos salvar essa informação em uma variável para que possamos acessar esses arquivos facilmente mais para frente."
      ]
    },
    {
      "cell_type": "code",
      "metadata": {
        "id": "5VaObFxmbWQR",
        "outputId": "33bd5456-7c9a-4417-f53b-ca1124572ca2",
        "colab": {
          "base_uri": "https://localhost:8080/",
          "height": 34
        }
      },
      "source": [
        "# imprimir lista com arquivos no diretório\n",
        "arquivos_semana = os.listdir()\n",
        "print(arquivos_semana)"
      ],
      "execution_count": 5,
      "outputs": [
        {
          "output_type": "stream",
          "text": [
            "['20200801.pdf', '20200802.pdf', '20200803.pdf', '20200804.pdf', '20200805.pdf']\n"
          ],
          "name": "stdout"
        }
      ]
    },
    {
      "cell_type": "markdown",
      "metadata": {
        "id": "sO3HtbHTW9VJ"
      },
      "source": [
        "## Manipulando Relatórios\n",
        "Com todo o conteúdo à disposição, é hora de começar a manipular esses arquivos.\n",
        "Aqui, voltaremos a usar a biblioteca `pdfplumber`, que irá nos ajudar a manipular arquivos no formato pdf."
      ]
    },
    {
      "cell_type": "code",
      "metadata": {
        "id": "AZNI0-dHW8V5"
      },
      "source": [
        "# abrir um relatório de exemplo\n",
        "relatorio = pdfplumber.open(\"/content/gdrive/My Drive/Cursos/Sigmoidal/Modulo 02/dados/relatorios/20200801.pdf\")"
      ],
      "execution_count": 6,
      "outputs": []
    },
    {
      "cell_type": "markdown",
      "metadata": {
        "id": "jNZcZfaTXp-P"
      },
      "source": [
        "Lembre-se: Mesmo que o arquivo tenha apenas uma página, sempre precisamos definir em que página iremos trabalhar.\n",
        "\n",
        "Vamos abrir a primeira página, e gravar essa informação em uma variável.\n",
        "\n",
        "Como a contagem começa em `0`, a primeira página do nosso arquivo está na posição `[0]`."
      ]
    },
    {
      "cell_type": "code",
      "metadata": {
        "id": "_v7S7nDLXYUG"
      },
      "source": [
        "# abrir a primeira pagina do relatorio\n",
        "pagina = relatorio.pages[0]"
      ],
      "execution_count": 7,
      "outputs": []
    },
    {
      "cell_type": "markdown",
      "metadata": {
        "id": "F5MfLpSeYBan"
      },
      "source": [
        "Mais uma vez, utilizaremos a função `extract_text()` para extrair as informações contidas no arquivo."
      ]
    },
    {
      "cell_type": "code",
      "metadata": {
        "id": "2LoNSMaqYAxQ",
        "outputId": "57a126b1-1a36-40b0-cd1f-cd149231cf75",
        "colab": {
          "base_uri": "https://localhost:8080/",
          "height": 445
        }
      },
      "source": [
        "# extrair o texto da primeira página do primeiro relatório\n",
        "texto = pagina.extract_text()\n",
        "print(texto)"
      ],
      "execution_count": 8,
      "outputs": [
        {
          "output_type": "stream",
          "text": [
            "SIGMOIDAL\t\n",
            "\t \t\n",
            "Relatório\tDiário\t\n",
            "Data:\t01/08/2020\t\n",
            "\t\n",
            "\t\n",
            "RECEITA:\tR$\t1297.00\t\n",
            "DADOS\tATUALIZADOS\tPOR\tCARLOS\tMELO\t\n",
            "\t\n",
            "\t\n",
            "Visitantes:\t1367\t\n",
            "A\tquantidade\tde\tvisitantes\tdiz\trespeito\ta\tvisitantes\túnicos\tvisitando\tqualquer\t\n",
            "página\tdo\tdomínio\tou\tsubdomínio\tsigmoidal.ai.\tCompreende,\tentão,\tcursos,\t\n",
            "blogs\te\tlanding\tpages.\t\n",
            "\t\n",
            "Inscritos:\t33\t\n",
            "É\tconsiderado\taqui\to\tnúmero\tde\tleads\tgerados\tpor\tmeio\tde\tcadastro\t\n",
            "voluntário\tnos\tformulários\tdo\tcabeçalho,\trodapé\tou\tmateriais\tricos\t(como\t\n",
            "eBook,\tinfográficos,\tentre\toutros).\t\n",
            "\t\n",
            "Assinantes:\t6\t\n",
            "Clientes\tassinantes\tda\tEscola\tde\tData\tScience,\tconsiderando-se\to\tplano\t\n",
            "renovável\tde\tassinatura\tmensal.\t\n",
            "\t\n"
          ],
          "name": "stdout"
        }
      ]
    },
    {
      "cell_type": "markdown",
      "metadata": {
        "id": "dM7L7focYN7B"
      },
      "source": [
        "Para visualização, o processo feito acima já nos atende perfeitamente. Todas as informações estão visíveis e claras, facilitando muito a leitura das informações.\n",
        "\n",
        "Entretanto, não é assim que o Python enxerga o que foi mostrado acima. E para que possamos manipular os dados contidos nesse arquivo e extrair as informações que precisamos, é necessário entender como o Python lida com esses dados."
      ]
    },
    {
      "cell_type": "markdown",
      "metadata": {
        "id": "PF990-B6Yi4F"
      },
      "source": [
        "## Strings\n",
        "O tipo de dado que estamos utilizando aqui chama-se `string`, como já vimos em aulas anteriores.\n",
        "\n",
        "`Strings` são o tipo de dado que utilizamos para lidar com palavras, letras, textos, enfim, nossa linguagem natural.\n",
        "\n",
        "Nós ainda iremos ver em mais detalhes as formas de manipular as strings, mas em bom estilo Sigmoidal, vamos ver como utilizaremos essas manipulações na prática, para que possamos nos aprofundar em seguida.\n",
        "\n"
      ]
    },
    {
      "cell_type": "markdown",
      "metadata": {
        "id": "hI2D3twXZESi"
      },
      "source": [
        "\n",
        "O texto é recebido pelo Python incluindo símbolos que representam:\n",
        "* `\\t` : a tecla tab (Espaço entre palavras)\n",
        "* `\\n` : a tecla enter (Quebra de linha)"
      ]
    },
    {
      "cell_type": "code",
      "metadata": {
        "id": "2TQZrmXgYMnf",
        "outputId": "66c95e83-1d57-40ac-8188-7fb950226236",
        "colab": {
          "base_uri": "https://localhost:8080/",
          "height": 137
        }
      },
      "source": [
        "# olhe como chega o texto\n",
        "texto"
      ],
      "execution_count": 9,
      "outputs": [
        {
          "output_type": "execute_result",
          "data": {
            "application/vnd.google.colaboratory.intrinsic+json": {
              "type": "string"
            },
            "text/plain": [
              "'SIGMOIDAL\\t\\n\\t \\t\\nRelatório\\tDiário\\t\\nData:\\t01/08/2020\\t\\n\\t\\n\\t\\nRECEITA:\\tR$\\t1297.00\\t\\nDADOS\\tATUALIZADOS\\tPOR\\tCARLOS\\tMELO\\t\\n\\t\\n\\t\\nVisitantes:\\t1367\\t\\nA\\tquantidade\\tde\\tvisitantes\\tdiz\\trespeito\\ta\\tvisitantes\\túnicos\\tvisitando\\tqualquer\\t\\npágina\\tdo\\tdomínio\\tou\\tsubdomínio\\tsigmoidal.ai.\\tCompreende,\\tentão,\\tcursos,\\t\\nblogs\\te\\tlanding\\tpages.\\t\\n\\t\\nInscritos:\\t33\\t\\nÉ\\tconsiderado\\taqui\\to\\tnúmero\\tde\\tleads\\tgerados\\tpor\\tmeio\\tde\\tcadastro\\t\\nvoluntário\\tnos\\tformulários\\tdo\\tcabeçalho,\\trodapé\\tou\\tmateriais\\tricos\\t(como\\t\\neBook,\\tinfográficos,\\tentre\\toutros).\\t\\n\\t\\nAssinantes:\\t6\\t\\nClientes\\tassinantes\\tda\\tEscola\\tde\\tData\\tScience,\\tconsiderando-se\\to\\tplano\\t\\nrenovável\\tde\\tassinatura\\tmensal.\\t\\n\\t'"
            ]
          },
          "metadata": {
            "tags": []
          },
          "execution_count": 9
        }
      ]
    },
    {
      "cell_type": "markdown",
      "metadata": {
        "id": "fv65k6ymX2Vx"
      },
      "source": [
        "### split()\n",
        "\n",
        "Utilizando o método split, nós podemos dizer ao Python que separe o texto a partir de um argumento que passaremos dentro dos parênteses. Nesse caso, vamos ver como ficaria o texto, caso fizéssemos o split a partir das linhas."
      ]
    },
    {
      "cell_type": "code",
      "metadata": {
        "id": "mzHVBxJWZOwg",
        "outputId": "09498ba2-4618-443d-f624-e052d3e8d30e",
        "colab": {
          "base_uri": "https://localhost:8080/",
          "height": 425
        }
      },
      "source": [
        "# dividindo o texto por linhas\n",
        "texto.split(\"\\n\")"
      ],
      "execution_count": 10,
      "outputs": [
        {
          "output_type": "execute_result",
          "data": {
            "text/plain": [
              "['SIGMOIDAL\\t',\n",
              " '\\t \\t',\n",
              " 'Relatório\\tDiário\\t',\n",
              " 'Data:\\t01/08/2020\\t',\n",
              " '\\t',\n",
              " '\\t',\n",
              " 'RECEITA:\\tR$\\t1297.00\\t',\n",
              " 'DADOS\\tATUALIZADOS\\tPOR\\tCARLOS\\tMELO\\t',\n",
              " '\\t',\n",
              " '\\t',\n",
              " 'Visitantes:\\t1367\\t',\n",
              " 'A\\tquantidade\\tde\\tvisitantes\\tdiz\\trespeito\\ta\\tvisitantes\\túnicos\\tvisitando\\tqualquer\\t',\n",
              " 'página\\tdo\\tdomínio\\tou\\tsubdomínio\\tsigmoidal.ai.\\tCompreende,\\tentão,\\tcursos,\\t',\n",
              " 'blogs\\te\\tlanding\\tpages.\\t',\n",
              " '\\t',\n",
              " 'Inscritos:\\t33\\t',\n",
              " 'É\\tconsiderado\\taqui\\to\\tnúmero\\tde\\tleads\\tgerados\\tpor\\tmeio\\tde\\tcadastro\\t',\n",
              " 'voluntário\\tnos\\tformulários\\tdo\\tcabeçalho,\\trodapé\\tou\\tmateriais\\tricos\\t(como\\t',\n",
              " 'eBook,\\tinfográficos,\\tentre\\toutros).\\t',\n",
              " '\\t',\n",
              " 'Assinantes:\\t6\\t',\n",
              " 'Clientes\\tassinantes\\tda\\tEscola\\tde\\tData\\tScience,\\tconsiderando-se\\to\\tplano\\t',\n",
              " 'renovável\\tde\\tassinatura\\tmensal.\\t',\n",
              " '\\t']"
            ]
          },
          "metadata": {
            "tags": []
          },
          "execution_count": 10
        }
      ]
    },
    {
      "cell_type": "markdown",
      "metadata": {
        "id": "LSFF9s76YIMN"
      },
      "source": [
        "Agora que sabemos uma forma de separar os dados, vamos buscar a informação que estamos buscando: a receita do dia.\n",
        "\n",
        "Analisando o output de cima, conseguimos identificar que essa informação está contida na sétima posição, que se encontra no índice 6, já que começamos a contagem do 0.\n",
        "\n",
        "Aqui, vamos fazer o split, como havíamos feito anteriormente, mas somente na linha [6]."
      ]
    },
    {
      "cell_type": "code",
      "metadata": {
        "id": "WKWCyJWOYHJc",
        "outputId": "9f52cf7c-e79a-49a8-a2aa-7d67d3a726b3",
        "colab": {
          "base_uri": "https://localhost:8080/",
          "height": 35
        }
      },
      "source": [
        "# vendas sempre aparecem na 7a posição (indice 6)\n",
        "texto.split(\"\\n\")[6]"
      ],
      "execution_count": 11,
      "outputs": [
        {
          "output_type": "execute_result",
          "data": {
            "application/vnd.google.colaboratory.intrinsic+json": {
              "type": "string"
            },
            "text/plain": [
              "'RECEITA:\\tR$\\t1297.00\\t'"
            ]
          },
          "metadata": {
            "tags": []
          },
          "execution_count": 11
        }
      ]
    },
    {
      "cell_type": "markdown",
      "metadata": {
        "id": "69xL1ah9YsRA"
      },
      "source": [
        "### replace()\n",
        "\n",
        "Em inglês, `replace` significar substituir, e é exatamente isso que esse método faz. Utilizaremos ele para apagar as tabulações, que estão atrapalhando nossa visualização."
      ]
    },
    {
      "cell_type": "code",
      "metadata": {
        "id": "sVV273OgYrTt",
        "outputId": "c2da660e-4b34-4ced-af5f-8993821882df",
        "colab": {
          "base_uri": "https://localhost:8080/",
          "height": 35
        }
      },
      "source": [
        "# retirando tabulações\n",
        "texto.split(\"\\n\")[6].replace(\"\\t\", \"\")"
      ],
      "execution_count": 12,
      "outputs": [
        {
          "output_type": "execute_result",
          "data": {
            "application/vnd.google.colaboratory.intrinsic+json": {
              "type": "string"
            },
            "text/plain": [
              "'RECEITA:R$1297.00'"
            ]
          },
          "metadata": {
            "tags": []
          },
          "execution_count": 12
        }
      ]
    },
    {
      "cell_type": "markdown",
      "metadata": {
        "id": "XtXSM7vFZAl5"
      },
      "source": [
        "Avançando na extração da informação, podemos utilizar o split para separar o que vem antes e depois do R$. \n",
        "\n",
        "Nós sabemos que esses dados estão em reais brasileiros, e estamos interessados apenas na parte numérica, por isso, ele não é relevante nesse momento. Vamos retirá-lo."
      ]
    },
    {
      "cell_type": "code",
      "metadata": {
        "id": "Cmi6pw14Y99x",
        "outputId": "53ae93c6-40f4-4bb4-b14a-e6590b057047",
        "colab": {
          "base_uri": "https://localhost:8080/",
          "height": 34
        }
      },
      "source": [
        "# como queremos o que vem depois do R$, pode ser usado str.split(\"R$\")\n",
        "texto.split(\"\\n\")[6].replace(\"\\t\", \"\").split(\"R$\")"
      ],
      "execution_count": 13,
      "outputs": [
        {
          "output_type": "execute_result",
          "data": {
            "text/plain": [
              "['RECEITA:', '1297.00']"
            ]
          },
          "metadata": {
            "tags": []
          },
          "execution_count": 13
        }
      ]
    },
    {
      "cell_type": "markdown",
      "metadata": {
        "id": "6RjsHy9LZNZr"
      },
      "source": [
        "Como mencionamos anteriormente, estamos lidando com `strings`. \n",
        "\n",
        "Entretanto, estamos aqui para extrair e manipular números. Para que possamos fazer as operações necessárias, precisamos converter nosso resultado para uma forma numérica.\n",
        "\n",
        "Como estamos lidando com moedas, que possuem casa decimal, vamos utilizar o formato `float`.\n",
        "\n",
        "Veja a difereneça no resultado das operações caso não façamos a conversão:"
      ]
    },
    {
      "cell_type": "code",
      "metadata": {
        "id": "IgT6UVqJZLTk",
        "outputId": "7ff03ad8-dd86-4e6a-89ba-9ea096f7fa92",
        "colab": {
          "base_uri": "https://localhost:8080/",
          "height": 51
        }
      },
      "source": [
        "# somando strings\n",
        "strings = \"1\" + \"1\"\n",
        "print('Soma de Strings: ', strings)\n",
        "\n",
        "# somando floats\n",
        "floats = 1.0 + 1.0\n",
        "print('Soma de Floats: ', floats)"
      ],
      "execution_count": 14,
      "outputs": [
        {
          "output_type": "stream",
          "text": [
            "Soma de Strings:  11\n",
            "Soma de Floats:  2.0\n"
          ],
          "name": "stdout"
        }
      ]
    },
    {
      "cell_type": "markdown",
      "metadata": {
        "id": "NCTpFKOPZwfe"
      },
      "source": [
        "Para que possamos realizar operações matemáticas, precisamos converter esses números de strings, para um formato numérico.\n",
        "\n",
        "No nosso caso, como mencionamos, utilizaremos o formato float."
      ]
    },
    {
      "cell_type": "code",
      "metadata": {
        "id": "MIQnsch3Ztud",
        "outputId": "f1c11705-7db2-43aa-de35-eccf54784842",
        "colab": {
          "base_uri": "https://localhost:8080/",
          "height": 35
        }
      },
      "source": [
        "# valor ainda é string\n",
        "texto.split(\"\\n\")[6].replace(\"\\t\", \"\").split(\"R$\")[1]"
      ],
      "execution_count": 15,
      "outputs": [
        {
          "output_type": "execute_result",
          "data": {
            "application/vnd.google.colaboratory.intrinsic+json": {
              "type": "string"
            },
            "text/plain": [
              "'1297.00'"
            ]
          },
          "metadata": {
            "tags": []
          },
          "execution_count": 15
        }
      ]
    },
    {
      "cell_type": "code",
      "metadata": {
        "id": "nzMwA1gwaXuk",
        "outputId": "e9650e31-1317-4be7-eddc-e803b4b0ecd3",
        "colab": {
          "base_uri": "https://localhost:8080/",
          "height": 34
        }
      },
      "source": [
        "# transformando em float\n",
        "float(texto.split(\"\\n\")[6].replace(\"\\t\", \"\").split(\"R$\")[1])"
      ],
      "execution_count": 16,
      "outputs": [
        {
          "output_type": "execute_result",
          "data": {
            "text/plain": [
              "1297.0"
            ]
          },
          "metadata": {
            "tags": []
          },
          "execution_count": 16
        }
      ]
    },
    {
      "cell_type": "markdown",
      "metadata": {
        "id": "yntzDWIGc35l"
      },
      "source": [
        "## Automatizando a Soma de Receita dos Relatórios\n",
        "\n",
        "Agora que sabemos como abrir, ler, e manipular os relatórios para extrair a receita de cada arquivo, é hora de criarmos uma função para fazer tudo isso pra nós.\n",
        "\n",
        "Basicamente, essa função vai iterar sobre nossos relatórios, fazer todos os passos que fizemos anteriormente, e extrair o valor de receita contido em cada um desses. Após receber os valores, ela vai somá-los, e nos retornar a receita total dos últimos 5 dias."
      ]
    },
    {
      "cell_type": "code",
      "metadata": {
        "id": "7M4gsnb2alV8",
        "outputId": "b3aab198-92bd-453c-c59d-ee96930de53c",
        "colab": {
          "base_uri": "https://localhost:8080/",
          "height": 85
        }
      },
      "source": [
        "soma_teste = 0\n",
        "\n",
        "for letra in [1, 10, 34, 99]:\n",
        "  soma_teste = soma_teste + letra\n",
        "  print(soma_teste)"
      ],
      "execution_count": 17,
      "outputs": [
        {
          "output_type": "stream",
          "text": [
            "1\n",
            "11\n",
            "45\n",
            "144\n"
          ],
          "name": "stdout"
        }
      ]
    },
    {
      "cell_type": "code",
      "metadata": {
        "id": "BAM2M6L8dBoO",
        "outputId": "ba4ab82f-fc55-416f-8afd-ef37500f83c7",
        "colab": {
          "base_uri": "https://localhost:8080/",
          "height": 102
        }
      },
      "source": [
        "#criando um contador\n",
        "soma = 0\n",
        "\n",
        "#criando a função\n",
        "for arquivo in arquivos_semana:\n",
        "  relatorio = pdfplumber.open(arquivo)\n",
        "  pagina = relatorio.pages[0]\n",
        "  texto = pagina.extract_text()\n",
        "  valor = texto.split(\"\\n\")[6].replace(\"\\t\", \"\").split(\"R$\")[1]\n",
        "  valor = float(valor)\n",
        "  soma = soma + valor\n",
        "  print(arquivo, \"--->\", valor)"
      ],
      "execution_count": 18,
      "outputs": [
        {
          "output_type": "stream",
          "text": [
            "20200801.pdf ---> 1297.0\n",
            "20200802.pdf ---> 537.0\n",
            "20200803.pdf ---> 554.0\n",
            "20200804.pdf ---> 2554.0\n",
            "20200805.pdf ---> 154.0\n"
          ],
          "name": "stdout"
        }
      ]
    },
    {
      "cell_type": "markdown",
      "metadata": {
        "id": "zDyywZudeA-7"
      },
      "source": [
        "Após visualizar o total de cada dia, vamos ver como ficou a soma:"
      ]
    },
    {
      "cell_type": "code",
      "metadata": {
        "id": "7za4q_a0doCY",
        "outputId": "a6a39d02-37a0-462d-f680-528b461e688b",
        "colab": {
          "base_uri": "https://localhost:8080/",
          "height": 34
        }
      },
      "source": [
        "# soma total\n",
        "print(\"Receita dos últimos 5 dias: R$\", soma)"
      ],
      "execution_count": 19,
      "outputs": [
        {
          "output_type": "stream",
          "text": [
            "Receita dos últimos 5 dias: R$ 5096.0\n"
          ],
          "name": "stdout"
        }
      ]
    },
    {
      "cell_type": "markdown",
      "metadata": {
        "id": "X7joSS3yeLWJ"
      },
      "source": [
        "## Dúvidas\n",
        "\n",
        "### Leitura de arquivos\n",
        "* https://pypi.org/project/gdoc-down/ - Biblioteca para ler arquivos gdoc, html,LaTeX, word, pdf, etc.\n",
        "* Pandas - csv, excel, etc.\n",
        "\n",
        "### Manipular Strings\n",
        "\n",
        "* split vs strip (Separador vs \"retirador\")\n",
        "* revisão do notebook\n",
        "\n"
      ]
    },
    {
      "cell_type": "code",
      "metadata": {
        "id": "m8wdxdo2eI89"
      },
      "source": [
        "texto_1 = 'Receita: R$200,00'\n",
        "texto_2 = 'R$200,00'"
      ],
      "execution_count": 20,
      "outputs": []
    },
    {
      "cell_type": "code",
      "metadata": {
        "id": "SmBFTxneebVF",
        "outputId": "3696dd86-850d-487e-f91a-809bc14bc74c",
        "colab": {
          "base_uri": "https://localhost:8080/",
          "height": 34
        }
      },
      "source": [
        "texto_1.split(\"R$\")"
      ],
      "execution_count": 21,
      "outputs": [
        {
          "output_type": "execute_result",
          "data": {
            "text/plain": [
              "['Receita: ', '200,00']"
            ]
          },
          "metadata": {
            "tags": []
          },
          "execution_count": 21
        }
      ]
    },
    {
      "cell_type": "code",
      "metadata": {
        "id": "EKKJTLULed6d",
        "outputId": "9e9797f6-df91-445a-c220-de437d6c761e",
        "colab": {
          "base_uri": "https://localhost:8080/",
          "height": 35
        }
      },
      "source": [
        "texto_2.strip('R$')"
      ],
      "execution_count": 22,
      "outputs": [
        {
          "output_type": "execute_result",
          "data": {
            "application/vnd.google.colaboratory.intrinsic+json": {
              "type": "string"
            },
            "text/plain": [
              "'200,00'"
            ]
          },
          "metadata": {
            "tags": []
          },
          "execution_count": 22
        }
      ]
    },
    {
      "cell_type": "markdown",
      "metadata": {
        "id": "ZpONmGCheiu-"
      },
      "source": [
        "### Booleanos\n",
        "* Função de string + Booleanos/Condicionais - Uso"
      ]
    },
    {
      "cell_type": "code",
      "metadata": {
        "id": "eY3NFTF4eg9F",
        "outputId": "832f0d64-d9e2-4596-9b4c-07a886913ca8",
        "colab": {
          "base_uri": "https://localhost:8080/",
          "height": 34
        }
      },
      "source": [
        "x = 'Carlos'\n",
        "y = 'carlos'\n",
        "\n",
        "x == y"
      ],
      "execution_count": 23,
      "outputs": [
        {
          "output_type": "execute_result",
          "data": {
            "text/plain": [
              "False"
            ]
          },
          "metadata": {
            "tags": []
          },
          "execution_count": 23
        }
      ]
    },
    {
      "cell_type": "code",
      "metadata": {
        "id": "Ez1uePAAeqKO",
        "outputId": "dad6eff5-adcb-4830-8ff7-d41abf820045",
        "colab": {
          "base_uri": "https://localhost:8080/",
          "height": 34
        }
      },
      "source": [
        "x = x.lower()\n",
        "\n",
        "x == y"
      ],
      "execution_count": 24,
      "outputs": [
        {
          "output_type": "execute_result",
          "data": {
            "text/plain": [
              "True"
            ]
          },
          "metadata": {
            "tags": []
          },
          "execution_count": 24
        }
      ]
    },
    {
      "cell_type": "code",
      "metadata": {
        "id": "tLvB8yPcetGV"
      },
      "source": [
        ""
      ],
      "execution_count": null,
      "outputs": []
    }
  ]
}