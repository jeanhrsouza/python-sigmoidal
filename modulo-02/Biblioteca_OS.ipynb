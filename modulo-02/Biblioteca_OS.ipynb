{
  "nbformat": 4,
  "nbformat_minor": 0,
  "metadata": {
    "colab": {
      "name": "Biblioteca OS.ipynb",
      "provenance": []
    },
    "kernelspec": {
      "name": "python3",
      "display_name": "Python 3"
    }
  },
  "cells": [
    {
      "cell_type": "markdown",
      "metadata": {
        "id": "vaJ6OxT1US7s",
        "colab_type": "text"
      },
      "source": [
        "<img alg=\"Logo Jean\" width=\"5%\" src=\"https://raw.githubusercontent.com/jeanhrsouza/python-sigmoidal/master/imagens/logo-jean.png\">\n",
        "<img alt=\"Colaboratory logo\" width=\"15%\" src=\"https://raw.githubusercontent.com/carlosfab/escola-data-science/master/img/novo_logo_bg_claro.png\">\n",
        "\n",
        "#### **Python do Zero**\n",
        "*by [sigmoidal.ai](https://sigmoidal.ai)*\n",
        "\n",
        "---\n",
        "\n",
        "## Biblioteca OS\n",
        "\n",
        "A biblioteca OS nos dá a possibilidade de interagir com o Sistema Operacional através do Python. Com ela, podemos acessar, modificar, mover, apagar aquivos, entre muitas outras funçoes.\n",
        "\n",
        "\n",
        "<center><img width=\"50%\" src=\"https://image.freepik.com/free-photo/hacking-concept_23-2148165936.jpg\"></center>\n",
        "\n",
        "Essa biblioteca será extremamente útil em nosso fluxo de trabalho com Python.\n",
        "\n",
        "Então vamos importar a biblioteca e começar a explorar suas funcionalidades."
      ]
    },
    {
      "cell_type": "code",
      "metadata": {
        "id": "jqQ0FaCaUQmY",
        "colab_type": "code",
        "colab": {}
      },
      "source": [
        "# importando a biblioteca\n",
        "import os"
      ],
      "execution_count": 2,
      "outputs": []
    },
    {
      "cell_type": "markdown",
      "metadata": {
        "id": "FoEXnBeZW7ji",
        "colab_type": "text"
      },
      "source": [
        "### getcwd()\n",
        "Antes de começarmos a explorar os diretórios, é importante sabermos onde estamos. Pra isso, usaremos os `getcwd`. Em tradução livre, o comando Get Current Directory significa \"recebero diretório atual\".\n",
        "\n",
        "Como Estamos no ambiente do colab, ele vai nos apresentar / content. Você pode ver os arquivos que estão lá ao clicar no ícone da pasta à esquerda do seu navegador aqui no colab."
      ]
    },
    {
      "cell_type": "code",
      "metadata": {
        "id": "gqjwBFd0Uj4Z",
        "colab_type": "code",
        "colab": {
          "base_uri": "https://localhost:8080/",
          "height": 35
        },
        "outputId": "f53a6209-4eb5-4f57-b405-aedf4dfbc75c"
      },
      "source": [
        "# verificar o diretório atual\n",
        "os.getcwd()"
      ],
      "execution_count": 3,
      "outputs": [
        {
          "output_type": "execute_result",
          "data": {
            "application/vnd.google.colaboratory.intrinsic+json": {
              "type": "string"
            },
            "text/plain": [
              "'/content'"
            ]
          },
          "metadata": {
            "tags": []
          },
          "execution_count": 3
        }
      ]
    },
    {
      "cell_type": "markdown",
      "metadata": {
        "id": "kn1_7IbGXecw",
        "colab_type": "text"
      },
      "source": [
        "## chdir()\n",
        "\n",
        "Saber mudar de pasta é importante. Imagine que todos os seus arquivos já estão localizados dentro de um único diretório. Não faz sentido digitar o endereço completo toda hora.\n",
        "\n",
        "Isso sem falar no risco de você alterar arquivos em diretórios errados, por engano."
      ]
    },
    {
      "cell_type": "code",
      "metadata": {
        "id": "RPs4Dv1KXbSi",
        "colab_type": "code",
        "colab": {}
      },
      "source": [
        "# mudar de diretório\n",
        "os.chdir(\"/content/sample_data\")"
      ],
      "execution_count": 5,
      "outputs": []
    },
    {
      "cell_type": "markdown",
      "metadata": {
        "id": "RUaeq9FnXw6O",
        "colab_type": "text"
      },
      "source": [
        "## listdir()\n",
        "\n",
        "Outra função interessante é listar o conteúdo dentro do diretório atual. Para isso utilizaremos o `listdir`.\n",
        "\n",
        "Aqui, mais uma vez, o resultado seria diferente em uma máquina local, a depender de onde você iniciou o Jupyter Notebook. No Colab, a referência continua sendo o ícone clicado anteriormente.\n",
        "\n",
        "A pasta com ícone de seta para cima se refere ao .config, e a outra pasta, é o sample_data."
      ]
    },
    {
      "cell_type": "code",
      "metadata": {
        "id": "F6FGAksSXqCz",
        "colab_type": "code",
        "colab": {
          "base_uri": "https://localhost:8080/",
          "height": 119
        },
        "outputId": "176e0c97-afaa-4a0e-d3fe-7bdc0f44980d"
      },
      "source": [
        "# listar conteúdo do diretório atual\n",
        "os.listdir()"
      ],
      "execution_count": 6,
      "outputs": [
        {
          "output_type": "execute_result",
          "data": {
            "text/plain": [
              "['anscombe.json',\n",
              " 'README.md',\n",
              " 'california_housing_test.csv',\n",
              " 'mnist_test.csv',\n",
              " 'mnist_train_small.csv',\n",
              " 'california_housing_train.csv']"
            ]
          },
          "metadata": {
            "tags": []
          },
          "execution_count": 6
        }
      ]
    },
    {
      "cell_type": "markdown",
      "metadata": {
        "id": "rDZpHHQaX22R",
        "colab_type": "text"
      },
      "source": [
        "## open() / close()\n",
        "\n",
        "Para abrir determinado arquivo, usamos a função `open()`. Após terminarmos de trabalhar com esse arquivo, podemos fechar o mesmo utilizando o `close()`.\n",
        "\n",
        "É necessário se atentar ao fato de que podemos abrir um arquivo para **leitura ('r')**, para **escrita ('w')**, ou para **acrescentar ('a')**.\n",
        "\n",
        "Nesse caso, nós ainda não temos um arquivo para abrir, então vamos criar um.\n",
        "\n",
        "Lembre-se que linguagens de programação são ferramentas, e existem várias formas de fazer a mesma coisa. Abaixo, vamos ver duas formas diferentes de criar um arquivo.\n",
        "\n",
        "Primeiramente, vamos criar o arquivo e associar ele a uma variável."
      ]
    },
    {
      "cell_type": "code",
      "metadata": {
        "id": "q2VOzJPFX0OJ",
        "colab_type": "code",
        "colab": {}
      },
      "source": [
        "# criando o arquivo\n",
        "arquivo = \"arquivo.txt\"\n",
        "\n",
        "#abrindo o arquivo no modo que permite escrita\n",
        "file = open(arquivo, 'w')\n",
        "file.write(\"#FamíliaSigmoidal\")\n",
        "file.close()"
      ],
      "execution_count": 7,
      "outputs": []
    },
    {
      "cell_type": "code",
      "metadata": {
        "id": "lsXqcSIvYC_C",
        "colab_type": "code",
        "colab": {
          "base_uri": "https://localhost:8080/",
          "height": 136
        },
        "outputId": "c4d5d5e3-1df7-4c19-bd11-b0afeacce1ca"
      },
      "source": [
        "# conferindo a criação do arquivo\n",
        "os.listdir()"
      ],
      "execution_count": 8,
      "outputs": [
        {
          "output_type": "execute_result",
          "data": {
            "text/plain": [
              "['anscombe.json',\n",
              " 'README.md',\n",
              " 'arquivo.txt',\n",
              " 'california_housing_test.csv',\n",
              " 'mnist_test.csv',\n",
              " 'mnist_train_small.csv',\n",
              " 'california_housing_train.csv']"
            ]
          },
          "metadata": {
            "tags": []
          },
          "execution_count": 8
        }
      ]
    },
    {
      "cell_type": "code",
      "metadata": {
        "id": "7hXr-gFyYG84",
        "colab_type": "code",
        "colab": {
          "base_uri": "https://localhost:8080/",
          "height": 34
        },
        "outputId": "252e3aa4-2cea-424e-f82f-afbcb9e9768d"
      },
      "source": [
        "# abrindo o arquivo para leitura\n",
        "file = open('arquivo.txt', 'r')\n",
        "\n",
        "#lendo o arquivo\n",
        "print(file.read())\n",
        "\n",
        "#fechar o arquivo\n",
        "file.close()"
      ],
      "execution_count": 9,
      "outputs": [
        {
          "output_type": "stream",
          "text": [
            "#FamíliaSigmoidal\n"
          ],
          "name": "stdout"
        }
      ]
    },
    {
      "cell_type": "markdown",
      "metadata": {
        "id": "rzS00NwoYbkZ",
        "colab_type": "text"
      },
      "source": [
        "Também é possível utilizar a função `with` para manter o arquivo aberto enquanto o manipulamos utilizando os comandos acima.\n",
        "\n",
        "Basicamente o que faremos é criar uma função dizendo que:\n",
        "`com` o arquivo aberto na função x como `variável`: faça tal coisa.\n",
        "\n",
        "Aqui, vamos ver uma outra possibilidade para a criação de arquivo. Quando abrimos um arquivo para escrever, caso ele não exista, ele é criado."
      ]
    },
    {
      "cell_type": "code",
      "metadata": {
        "id": "dUdWO-cTYPjg",
        "colab_type": "code",
        "colab": {}
      },
      "source": [
        "# criando e escrevendo no arquivo\n",
        "with open('teste.txt', 'w') as txt:\n",
        "  txt.write(\"Testando a função\")"
      ],
      "execution_count": 10,
      "outputs": []
    },
    {
      "cell_type": "markdown",
      "metadata": {
        "id": "4rvzBu5MlE52",
        "colab_type": "text"
      },
      "source": [
        "Como vimos anteriormente, podemos também acrescentar informações a um arquivo existente.\n",
        "\n",
        "Para isso, vamos abrir o arquivo na função **acrescentar ('a')**"
      ]
    },
    {
      "cell_type": "code",
      "metadata": {
        "id": "LHDGTHmkk-WU",
        "colab_type": "code",
        "colab": {}
      },
      "source": [
        "# adicionando informações ao arquivo\n",
        "with open('teste.txt', 'a') as txt:\n",
        "  txt.write(\"\\nMais Teste informações\")"
      ],
      "execution_count": 13,
      "outputs": []
    },
    {
      "cell_type": "markdown",
      "metadata": {
        "id": "4SNp4vR6k3bO",
        "colab_type": "text"
      },
      "source": [
        "Por fim, vamos ver o resultado."
      ]
    },
    {
      "cell_type": "code",
      "metadata": {
        "id": "YDULDGQfkzpx",
        "colab_type": "code",
        "colab": {
          "base_uri": "https://localhost:8080/",
          "height": 68
        },
        "outputId": "8d99e73a-267b-4486-fda2-d6bd590f0a80"
      },
      "source": [
        "# lendo o arquivo\n",
        "with open('teste.txt', 'r') as txt:\n",
        "  print(txt.read())"
      ],
      "execution_count": 14,
      "outputs": [
        {
          "output_type": "stream",
          "text": [
            "Testando a função\n",
            "Mais Teste informações\n",
            "Mais Teste informações\n"
          ],
          "name": "stdout"
        }
      ]
    },
    {
      "cell_type": "markdown",
      "metadata": {
        "id": "lPUSbX9VlqE6",
        "colab_type": "text"
      },
      "source": [
        "### rename()\n",
        "Um arquivo pode ser renomeado utilizando a função `rename()`.\n",
        "Atenção, pois o nome só é mudado caso o arquivo exista, e o usuário fazendo a mudança tenha permissão para isso."
      ]
    },
    {
      "cell_type": "code",
      "metadata": {
        "id": "xTbw2myylZug",
        "colab_type": "code",
        "colab": {
          "base_uri": "https://localhost:8080/",
          "height": 153
        },
        "outputId": "0c8221df-12a3-4c64-8902-b6f7a510eb94"
      },
      "source": [
        "# renomeando o arquivo\n",
        "os.rename('teste.txt', 'sigmoidal.txt')\n",
        "\n",
        "# verificando que o nome do arquivo foi mudado\n",
        "os.listdir()"
      ],
      "execution_count": 15,
      "outputs": [
        {
          "output_type": "execute_result",
          "data": {
            "text/plain": [
              "['anscombe.json',\n",
              " 'README.md',\n",
              " 'sigmoidal.txt',\n",
              " 'arquivo.txt',\n",
              " 'california_housing_test.csv',\n",
              " 'mnist_test.csv',\n",
              " 'mnist_train_small.csv',\n",
              " 'california_housing_train.csv']"
            ]
          },
          "metadata": {
            "tags": []
          },
          "execution_count": 15
        }
      ]
    },
    {
      "cell_type": "markdown",
      "metadata": {
        "id": "bxld-IA8mBdt",
        "colab_type": "text"
      },
      "source": [
        "## Exercícios\n",
        "Agora que já entendemos as funções básicas da biblioteca, vamos ver como usá-las na prática.\n",
        "\n",
        "<center><img width=\"50%\" src=\"https://image.freepik.com/free-photo/sport-outdoor_144627-38331.jpg\"></center>"
      ]
    },
    {
      "cell_type": "markdown",
      "metadata": {
        "id": "GqAdea3CmMqX",
        "colab_type": "text"
      },
      "source": [
        "### Exercício 1\n",
        "Importe a biblioteca OS e verifique:"
      ]
    },
    {
      "cell_type": "code",
      "metadata": {
        "id": "SFFuCgNDmAa7",
        "colab_type": "code",
        "colab": {
          "base_uri": "https://localhost:8080/",
          "height": 35
        },
        "outputId": "a30741eb-f7fd-448c-a14f-57e028c64203"
      },
      "source": [
        "# A) em que diretório você está\n",
        "import os\n",
        "os.getcwd()"
      ],
      "execution_count": 19,
      "outputs": [
        {
          "output_type": "execute_result",
          "data": {
            "application/vnd.google.colaboratory.intrinsic+json": {
              "type": "string"
            },
            "text/plain": [
              "'/content/sample_data'"
            ]
          },
          "metadata": {
            "tags": []
          },
          "execution_count": 19
        }
      ]
    },
    {
      "cell_type": "code",
      "metadata": {
        "id": "Wqt4on2VmSBa",
        "colab_type": "code",
        "colab": {
          "base_uri": "https://localhost:8080/",
          "height": 153
        },
        "outputId": "0a567b0f-56bd-4603-efca-e0a7f5c9191e"
      },
      "source": [
        "# B) O que há dentro do diretório\n",
        "os.listdir()"
      ],
      "execution_count": 20,
      "outputs": [
        {
          "output_type": "execute_result",
          "data": {
            "text/plain": [
              "['anscombe.json',\n",
              " 'README.md',\n",
              " 'sigmoidal.txt',\n",
              " 'arquivo.txt',\n",
              " 'california_housing_test.csv',\n",
              " 'mnist_test.csv',\n",
              " 'mnist_train_small.csv',\n",
              " 'california_housing_train.csv']"
            ]
          },
          "metadata": {
            "tags": []
          },
          "execution_count": 20
        }
      ]
    },
    {
      "cell_type": "markdown",
      "metadata": {
        "id": "dnIbPN8smmlm",
        "colab_type": "text"
      },
      "source": [
        "## Exercício 2\n",
        "Faça o que se pede na célula abaixo:"
      ]
    },
    {
      "cell_type": "code",
      "metadata": {
        "id": "R--NmexEmUO5",
        "colab_type": "code",
        "colab": {}
      },
      "source": [
        "# A) Crie um arquivo chamado aluno.txt e escreva nele o seu nome\n",
        "arquivo = \"aluno.txt\"\n",
        "\n",
        "with open(arquivo, 'w') as arquivo:\n",
        "  arquivo.write(\"Nome: Jean\")"
      ],
      "execution_count": 25,
      "outputs": []
    },
    {
      "cell_type": "code",
      "metadata": {
        "id": "GrT7xsOZmyjR",
        "colab_type": "code",
        "colab": {}
      },
      "source": [
        "# B) Acrescente sua idade e profissão\n",
        "with open(\"aluno.txt\", 'a') as arquivo:\n",
        "  arquivo.write(\"\\nIdade: 20\\nProfissão: Analista de Sistemas\")"
      ],
      "execution_count": 27,
      "outputs": []
    },
    {
      "cell_type": "code",
      "metadata": {
        "id": "PesyAHEam0-w",
        "colab_type": "code",
        "colab": {
          "base_uri": "https://localhost:8080/",
          "height": 68
        },
        "outputId": "593cf573-4aa0-4028-d2a7-f0da9c764bef"
      },
      "source": [
        "# C) Leia as informações contidas no arquivo\n",
        "with open(\"aluno.txt\", 'r') as txt:\n",
        "  print(txt.read()) "
      ],
      "execution_count": 29,
      "outputs": [
        {
          "output_type": "stream",
          "text": [
            "Nome: Jean\n",
            "Idade: 20\n",
            "Profissão: Analista de Sistemas\n"
          ],
          "name": "stdout"
        }
      ]
    },
    {
      "cell_type": "markdown",
      "metadata": {
        "id": "98vUgwCJm4IA",
        "colab_type": "text"
      },
      "source": [
        "## Exercício 3\n",
        "Renomeie o arquivo para sigmoidal.txt"
      ]
    },
    {
      "cell_type": "code",
      "metadata": {
        "id": "_18KzdYhm3OI",
        "colab_type": "code",
        "colab": {}
      },
      "source": [
        "#Renomeie o arquivo\n",
        "os.rename(\"aluno.txt\", \"sigmoidal.txt\")"
      ],
      "execution_count": 30,
      "outputs": []
    },
    {
      "cell_type": "code",
      "metadata": {
        "id": "3RavJuoXn5Xa",
        "colab_type": "code",
        "colab": {
          "base_uri": "https://localhost:8080/",
          "height": 153
        },
        "outputId": "43c3ca72-7b97-4088-88cd-d21a676fed30"
      },
      "source": [
        "# verificando que o nome do arquivo foi mudado\n",
        "os.listdir()"
      ],
      "execution_count": 32,
      "outputs": [
        {
          "output_type": "execute_result",
          "data": {
            "text/plain": [
              "['anscombe.json',\n",
              " 'README.md',\n",
              " 'sigmoidal.txt',\n",
              " 'arquivo.txt',\n",
              " 'california_housing_test.csv',\n",
              " 'mnist_test.csv',\n",
              " 'mnist_train_small.csv',\n",
              " 'california_housing_train.csv']"
            ]
          },
          "metadata": {
            "tags": []
          },
          "execution_count": 32
        }
      ]
    },
    {
      "cell_type": "markdown",
      "metadata": {
        "id": "41CyneTzoCz6",
        "colab_type": "text"
      },
      "source": [
        "os — Diversas interfaces de sistema operaciona: https://docs.python.org/pt-br/3/library/os.html \n",
        "> \n",
        "Python - OS Module - https://www.tutorialsteacher.com/python/os-module"
      ]
    },
    {
      "cell_type": "code",
      "metadata": {
        "id": "OKHaZ5Kxn77w",
        "colab_type": "code",
        "colab": {}
      },
      "source": [
        ""
      ],
      "execution_count": null,
      "outputs": []
    }
  ]
}